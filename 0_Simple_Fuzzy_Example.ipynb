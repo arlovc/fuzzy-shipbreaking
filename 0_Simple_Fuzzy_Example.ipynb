{
 "cells": [
  {
   "cell_type": "code",
   "execution_count": null,
   "metadata": {},
   "outputs": [],
   "source": [
    "# This example is from: https://pythonhosted.org/scikit-fuzzy/auto_examples/plot_tipping_problem_newapi.html"
   ]
  },
  {
   "cell_type": "code",
   "execution_count": null,
   "metadata": {},
   "outputs": [],
   "source": [
    "#pip install -U scikit-fuzzy --user"
   ]
  },
  {
   "cell_type": "code",
   "execution_count": 2,
   "metadata": {},
   "outputs": [
    {
     "data": {
      "text/plain": [
       "\"\\n==========================================\\nFuzzy Control Systems: The Tipping Problem\\n==========================================\\n\\nThe 'tipping problem' is commonly used to illustrate the power of fuzzy logic\\nprinciples to generate complex behavior from a compact, intuitive set of\\nexpert rules.\\n\\nIf you're new to the world of fuzzy control systems, you might want\\nto check out the `Fuzzy Control Primer\\n<../userguide/fuzzy_control_primer.html>`_\\nbefore reading through this worked example.\\n\\nThe Tipping Problem\\n-------------------\\n\\nLet's create a fuzzy control system which models how you might choose to tip\\nat a restaurant.  When tipping, you consider the service and food quality,\\nrated between 0 and 10.  You use this to leave a tip of between 0 and 25%.\\n\\nWe would formulate this problem as:\\n\\n* Antecednets (Inputs)\\n   - `service`\\n      * Universe (ie, crisp value range): How good was the service of the wait\\n        staff, on a scale of 0 to 10?\\n      * Fuzzy set (ie, fuzzy value range): poor, acceptable, amazing\\n   - `food quality`\\n      * Universe: How tasty was the food, on a scale of 0 to 10?\\n      * Fuzzy set: bad, decent, great\\n* Consequents (Outputs)\\n   - `tip`\\n      * Universe: How much should we tip, on a scale of 0% to 25%\\n      * Fuzzy set: low, medium, high\\n* Rules\\n   - IF the *service* was good  *or* the *food quality* was good,\\n     THEN the tip will be high.\\n   - IF the *service* was average, THEN the tip will be medium.\\n   - IF the *service* was poor *and* the *food quality* was poor\\n     THEN the tip will be low.\\n* Usage\\n   - If I tell this controller that I rated:\\n      * the service as 9.8, and\\n      * the quality as 6.5,\\n   - it would recommend I leave:\\n      * a 20.2% tip.\\n\\n\\nCreating the Tipping Controller Using the skfuzzy control API\\n-------------------------------------------------------------\\n\\nWe can use the `skfuzzy` control system API to model this.  First, let's\\ndefine fuzzy variables\\n\""
      ]
     },
     "execution_count": 2,
     "metadata": {},
     "output_type": "execute_result"
    }
   ],
   "source": [
    "\"\"\"\n",
    "==========================================\n",
    "Fuzzy Control Systems: The Tipping Problem\n",
    "==========================================\n",
    "\n",
    "The 'tipping problem' is commonly used to illustrate the power of fuzzy logic\n",
    "principles to generate complex behavior from a compact, intuitive set of\n",
    "expert rules.\n",
    "\n",
    "If you're new to the world of fuzzy control systems, you might want\n",
    "to check out the `Fuzzy Control Primer\n",
    "<../userguide/fuzzy_control_primer.html>`_\n",
    "before reading through this worked example.\n",
    "\n",
    "The Tipping Problem\n",
    "-------------------\n",
    "\n",
    "Let's create a fuzzy control system which models how you might choose to tip\n",
    "at a restaurant.  When tipping, you consider the service and food quality,\n",
    "rated between 0 and 10.  You use this to leave a tip of between 0 and 25%.\n",
    "\n",
    "We would formulate this problem as:\n",
    "\n",
    "* Antecednets (Inputs)\n",
    "   - `service`\n",
    "      * Universe (ie, crisp value range): How good was the service of the wait\n",
    "        staff, on a scale of 0 to 10?\n",
    "      * Fuzzy set (ie, fuzzy value range): poor, acceptable, amazing\n",
    "   - `food quality`\n",
    "      * Universe: How tasty was the food, on a scale of 0 to 10?\n",
    "      * Fuzzy set: bad, decent, great\n",
    "* Consequents (Outputs)\n",
    "   - `tip`\n",
    "      * Universe: How much should we tip, on a scale of 0% to 25%\n",
    "      * Fuzzy set: low, medium, high\n",
    "* Rules\n",
    "   - IF the *service* was good  *or* the *food quality* was good,\n",
    "     THEN the tip will be high.\n",
    "   - IF the *service* was average, THEN the tip will be medium.\n",
    "   - IF the *service* was poor *and* the *food quality* was poor\n",
    "     THEN the tip will be low.\n",
    "* Usage\n",
    "   - If I tell this controller that I rated:\n",
    "      * the service as 9.8, and\n",
    "      * the quality as 6.5,\n",
    "   - it would recommend I leave:\n",
    "      * a 20.2% tip.\n",
    "\n",
    "\n",
    "Creating the Tipping Controller Using the skfuzzy control API\n",
    "-------------------------------------------------------------\n",
    "\n",
    "We can use the `skfuzzy` control system API to model this.  First, let's\n",
    "define fuzzy variables\n",
    "\"\"\""
   ]
  },
  {
   "cell_type": "code",
   "execution_count": 1,
   "metadata": {},
   "outputs": [
    {
     "ename": "ModuleNotFoundError",
     "evalue": "No module named 'skfuzzy'",
     "output_type": "error",
     "traceback": [
      "\u001b[0;31m---------------------------------------------------------------------------\u001b[0m",
      "\u001b[0;31mModuleNotFoundError\u001b[0m                       Traceback (most recent call last)",
      "Input \u001b[0;32mIn [1]\u001b[0m, in \u001b[0;36m<cell line: 2>\u001b[0;34m()\u001b[0m\n\u001b[1;32m      1\u001b[0m \u001b[38;5;28;01mimport\u001b[39;00m \u001b[38;5;21;01mnumpy\u001b[39;00m \u001b[38;5;28;01mas\u001b[39;00m \u001b[38;5;21;01mnp\u001b[39;00m\n\u001b[0;32m----> 2\u001b[0m \u001b[38;5;28;01mimport\u001b[39;00m \u001b[38;5;21;01mskfuzzy\u001b[39;00m \u001b[38;5;28;01mas\u001b[39;00m \u001b[38;5;21;01mfuzz\u001b[39;00m\n\u001b[1;32m      3\u001b[0m \u001b[38;5;28;01mfrom\u001b[39;00m \u001b[38;5;21;01mskfuzzy\u001b[39;00m \u001b[38;5;28;01mimport\u001b[39;00m control \u001b[38;5;28;01mas\u001b[39;00m ctrl\n\u001b[1;32m      5\u001b[0m \u001b[38;5;66;03m# New Antecedent/Consequent objects hold universe variables and membership\u001b[39;00m\n\u001b[1;32m      6\u001b[0m \u001b[38;5;66;03m# functions\u001b[39;00m\n",
      "\u001b[0;31mModuleNotFoundError\u001b[0m: No module named 'skfuzzy'"
     ]
    }
   ],
   "source": [
    "import numpy as np\n",
    "import skfuzzy as fuzz\n",
    "from skfuzzy import control as ctrl\n",
    "\n",
    "# New Antecedent/Consequent objects hold universe variables and membership\n",
    "# functions\n",
    "quality = ctrl.Antecedent(np.arange(0, 11, 1), 'quality')\n",
    "service = ctrl.Antecedent(np.arange(0, 11, 1), 'service')\n",
    "tip = ctrl.Consequent(np.arange(0, 26, 1), 'tip')\n",
    "\n",
    "# Auto-membership function population is possible with .automf(3, 5, or 7)\n",
    "quality.automf(3)\n",
    "service.automf(3)\n",
    "\n",
    "# Custom membership functions can be built interactively with a familiar,\n",
    "# Pythonic API\n",
    "tip['low'] = fuzz.trimf(tip.universe, [0, 0, 13])\n",
    "tip['medium'] = fuzz.trimf(tip.universe, [0, 13, 25])\n",
    "tip['high'] = fuzz.trimf(tip.universe, [13, 25, 25])"
   ]
  },
  {
   "cell_type": "code",
   "execution_count": 2,
   "metadata": {},
   "outputs": [
    {
     "ename": "NameError",
     "evalue": "name 'quality' is not defined",
     "output_type": "error",
     "traceback": [
      "\u001b[0;31m---------------------------------------------------------------------------\u001b[0m",
      "\u001b[0;31mNameError\u001b[0m                                 Traceback (most recent call last)",
      "Input \u001b[0;32mIn [2]\u001b[0m, in \u001b[0;36m<cell line: 6>\u001b[0;34m()\u001b[0m\n\u001b[1;32m      1\u001b[0m \u001b[38;5;124;03m\"\"\"\u001b[39;00m\n\u001b[1;32m      2\u001b[0m \u001b[38;5;124;03mTo help understand what the membership looks like, use the ``view`` methods.\u001b[39;00m\n\u001b[1;32m      3\u001b[0m \u001b[38;5;124;03m\"\"\"\u001b[39;00m\n\u001b[1;32m      5\u001b[0m \u001b[38;5;66;03m# You can see how these look with .view()\u001b[39;00m\n\u001b[0;32m----> 6\u001b[0m \u001b[43mquality\u001b[49m[\u001b[38;5;124m'\u001b[39m\u001b[38;5;124maverage\u001b[39m\u001b[38;5;124m'\u001b[39m]\u001b[38;5;241m.\u001b[39mview()\n\u001b[1;32m      8\u001b[0m service\u001b[38;5;241m.\u001b[39mview()\n\u001b[1;32m     11\u001b[0m tip\u001b[38;5;241m.\u001b[39mview()\n",
      "\u001b[0;31mNameError\u001b[0m: name 'quality' is not defined"
     ]
    }
   ],
   "source": [
    "\"\"\"\n",
    "To help understand what the membership looks like, use the ``view`` methods.\n",
    "\"\"\"\n",
    "\n",
    "# You can see how these look with .view()\n",
    "quality['average'].view()\n",
    "\n",
    "service.view()\n",
    "\n",
    "\n",
    "tip.view()\n"
   ]
  },
  {
   "cell_type": "code",
   "execution_count": 5,
   "metadata": {},
   "outputs": [],
   "source": [
    "\"\"\"\n",
    "Fuzzy rules\n",
    "-----------\n",
    "\n",
    "Now, to make these triangles useful, we define the *fuzzy relationship*\n",
    "between input and output variables. For the purposes of our example, consider\n",
    "three simple rules:\n",
    "\n",
    "1. If the food is poor OR the service is poor, then the tip will be low\n",
    "2. If the service is average, then the tip will be medium\n",
    "3. If the food is good OR the service is good, then the tip will be high.\n",
    "\n",
    "Most people would agree on these rules, but the rules are fuzzy. Mapping the\n",
    "imprecise rules into a defined, actionable tip is a challenge. This is the\n",
    "kind of task at which fuzzy logic excels.\n",
    "\"\"\"\n",
    "\n",
    "rule1 = ctrl.Rule(quality['poor'] | service['poor'], tip['low'])\n",
    "rule2 = ctrl.Rule(service['average'], tip['medium'])\n",
    "rule3 = ctrl.Rule(service['good'] | quality['good'], tip['high'])"
   ]
  },
  {
   "cell_type": "code",
   "execution_count": 10,
   "metadata": {},
   "outputs": [],
   "source": [
    "\"\"\"\n",
    "\n",
    "Control System Creation and Simulation\n",
    "---------------------------------------\n",
    "\n",
    "Now that we have our rules defined, we can simply create a control system\n",
    "via:\n",
    "\"\"\"\n",
    "\n",
    "tipping_ctrl = ctrl.ControlSystem([rule1, rule2, rule3])\n",
    "\n",
    "\"\"\"\n",
    "In order to simulate this control system, we will create a\n",
    "``ControlSystemSimulation``.  Think of this object representing our controller\n",
    "applied to a specific set of cirucmstances.  For tipping, this might be tipping\n",
    "Sharon at the local brew-pub.  We would create another\n",
    "``ControlSystemSimulation`` when we're trying to apply our ``tipping_ctrl``\n",
    "for Travis at the cafe because the inputs would be different.\n",
    "\"\"\"\n",
    "\n",
    "tipping = ctrl.ControlSystemSimulation(tipping_ctrl)"
   ]
  },
  {
   "cell_type": "code",
   "execution_count": 16,
   "metadata": {},
   "outputs": [],
   "source": [
    "\"\"\"\n",
    "We can now simulate our control system by simply specifying the inputs\n",
    "and calling the ``compute`` method.  Suppose we rated the quality 6.5 out of 10\n",
    "and the service 9.8 of 10.\n",
    "\"\"\"\n",
    "# Pass inputs to the ControlSystem using Antecedent labels with Pythonic API\n",
    "# Note: if you like passing many inputs all at once, use .inputs(dict_of_data)\n",
    "tipping.input['quality'] = 1\n",
    "tipping.input['service'] = 8"
   ]
  },
  {
   "cell_type": "code",
   "execution_count": 17,
   "metadata": {},
   "outputs": [
    {
     "name": "stdout",
     "output_type": "stream",
     "text": [
      "11.839080282396509\n"
     ]
    },
    {
     "data": {
      "image/png": "[encoded data removed]",
      "text/plain": [
       "<Figure size 432x288 with 1 Axes>"
      ]
     },
     "metadata": {
      "needs_background": "light"
     },
     "output_type": "display_data"
    }
   ],
   "source": [
    "# Crunch the numbers\n",
    "tipping.compute()\n",
    "\n",
    "\"\"\"\n",
    "Once computed, we can view the result as well as visualize it.\n",
    "\"\"\"\n",
    "print(tipping.output['tip'])\n",
    "tip.view(sim=tipping)"
   ]
  },
  {
   "cell_type": "code",
   "execution_count": null,
   "metadata": {},
   "outputs": [],
   "source": []
  }
 ],
 "metadata": {
  "kernelspec": {
   "display_name": "gfs_env",
   "language": "python",
   "name": "gfs_env"
  },
  "language_info": {
   "codemirror_mode": {
    "name": "ipython",
    "version": 3
   },
   "file_extension": ".py",
   "mimetype": "text/x-python",
   "name": "python",
   "nbconvert_exporter": "python",
   "pygments_lexer": "ipython3",
   "version": "3.10.5"
  },
  "varInspector": {
   "cols": {
    "lenName": 16,
    "lenType": 16,
    "lenVar": 40
   },
   "kernels_config": {
    "python": {
     "delete_cmd_postfix": "",
     "delete_cmd_prefix": "del ",
     "library": "var_list.py",
     "varRefreshCmd": "print(var_dic_list())"
    },
    "r": {
     "delete_cmd_postfix": ") ",
     "delete_cmd_prefix": "rm(",
     "library": "var_list.r",
     "varRefreshCmd": "cat(var_dic_list()) "
    }
   },
   "types_to_exclude": [
    "module",
    "function",
    "builtin_function_or_method",
    "instance",
    "_Feature"
   ],
   "window_display": false
  }
 },
 "nbformat": 4,
 "nbformat_minor": 4
}
