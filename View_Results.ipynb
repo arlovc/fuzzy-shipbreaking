{
 "cells": [
  {
   "cell_type": "code",
   "execution_count": 174,
   "id": "831fed48-0fad-4e46-a84d-272ed620dff5",
   "metadata": {},
   "outputs": [],
   "source": [
    "from joblib import dump, load\n",
    "import numpy as np\n",
    "import pickle\n",
    "import pandas as pd\n",
    "import matplotlib.pyplot as plt\n",
    "import deap\n",
    "from sklearn.metrics import precision_recall_curve\n",
    "from sklearn.metrics import roc_auc_score"
   ]
  },
  {
   "cell_type": "code",
   "execution_count": 175,
   "id": "758b89f2-28c1-46f8-83a4-c828aac137b4",
   "metadata": {
    "tags": []
   },
   "outputs": [],
   "source": [
    "class DynamicFuzzySystem:\n",
    "    def __init__(self,\n",
    "                 output_membership_functions,\n",
    "                 predictors):\n",
    "        # create empty data frame for the membership values that stay fixed because we fix the mfs\n",
    "        self.membership_value_pd = pd.DataFrame(columns=predictors)\n",
    "        self.membership_func_names_pd = pd.DataFrame(columns=predictors)\n",
    "        self.output_membership_functions = output_membership_functions\n",
    "\n",
    "    @staticmethod\n",
    "    def defuzz_center_of_sums(y, output_shape):\n",
    "        \"\"\" Defuzzification using the center of area\n",
    "            CONFIRMED, see: https://codecrucks.com/defuzzification-methods-solved-examples/\"\"\"\n",
    "        left = output_shape[0]\n",
    "        center = output_shape[1]\n",
    "        right = output_shape[2]\n",
    "        area = .5 * (right - left)\n",
    "        # scale the output membership function using rule weight\n",
    "        scaled_function = center * y * area\n",
    "        return scaled_function, area\n",
    "\n",
    "    @staticmethod\n",
    "    def memb_tri(x, triangle):\n",
    "        \"\"\"This function determines the membership value belonging to the user defined triangle\n",
    "        INPUTS\n",
    "        x - the value\n",
    "        triangle - user defined triangle in order:left, center, right\"\"\"\n",
    "        left = triangle[0]\n",
    "        center = triangle[1]\n",
    "        right = triangle[2]\n",
    "\n",
    "        if left <= x < center:\n",
    "            # Left side of triangle\n",
    "            membership = (x - left) / (center - left)\n",
    "        elif center <= x <= right:\n",
    "            # Right side of triangle\n",
    "            if (center - right) == 0:\n",
    "                membership = 1\n",
    "            else:\n",
    "                membership = (x - right) / (center - right)\n",
    "        else:\n",
    "            # not in triangle\n",
    "            membership = 0\n",
    "        return membership\n",
    "\n",
    "    def input_to_membership(self, input_name, input_column, membership_functions, membership_function_labels):\n",
    "        \"\"\"\n",
    "        Calculates the membership values for all membership functions for all data points for a certain input\n",
    "\n",
    "        This function takes the parameters:\n",
    "        input_name - name of input as listed in data\n",
    "        input_column - the values of each data point for this input\n",
    "        membership_functions - list of lists the holds the membership function info [[left, center, right], ...]\n",
    "        membership_function_labels - labels for each of the membership functions\n",
    "        \"\"\"\n",
    "        all_input_data = []\n",
    "        for input_value in input_column:\n",
    "            memberships = []\n",
    "            for membership_function in membership_functions:\n",
    "                membership = self.memb_tri(input_value, membership_function)\n",
    "                memberships.append(membership)\n",
    "            all_input_data.append([memberships])\n",
    "        self.membership_value_pd[input_name] = pd.DataFrame(all_input_data)\n",
    "        self.membership_func_names_pd[input_name] = [membership_function_labels]\n",
    "        print('Membership values calculated for input: ' + input_name)\n",
    "\n",
    "        \n",
    "    def input_to_membership_intermediate_level(self, input_value, membership_functions):\n",
    "        \"\"\"\n",
    "        Calculates the membership values for all membership functions for all data points for a certain input\n",
    "\n",
    "        This function takes the parameters:\n",
    "        input_value - the value of an input\n",
    "        membership_functions - list of lists the holds the membership function info [[left, center, right], ...]\n",
    "        \"\"\"\n",
    "        memberships = []\n",
    "        for membership_function in membership_functions:\n",
    "            membership = self.memb_tri(input_value, membership_function)\n",
    "            memberships.append(membership)\n",
    "\n",
    "        return memberships\n",
    "        \n",
    "        \n",
    "    @staticmethod\n",
    "    def check_if_rule_fires(memberships):\n",
    "        # If each membership value in a rule is 0, then those membership functions do not fire together for this data\n",
    "        # point\n",
    "        memberships = np.array(memberships)\n",
    "        is_all_zero = np.all((memberships == 0))\n",
    "        return is_all_zero\n",
    "    \n",
    "\n",
    "    def rules2_1(self, input_1_mfs, input_2_mfs):\n",
    "        \"\"\"\n",
    "        Calculate and rules for a two input one output FIS for one data point\n",
    "\n",
    "        data_point - index of the current data point being calculated for\n",
    "        \"\"\"\n",
    "        and_rules = []\n",
    "        rule_number = 0\n",
    "        non_fire_rules = []\n",
    "        for mem_1 in input_1_mfs:\n",
    "            for mem_2 in input_2_mfs:\n",
    "                and_rules.append(min(mem_1, mem_2))\n",
    "                if self.check_if_rule_fires([mem_1, mem_2]):\n",
    "                    non_fire_rules.append(rule_number)\n",
    "                    \n",
    "                rule_number += 1\n",
    "        return and_rules, non_fire_rules\n",
    "\n",
    "\n",
    "\n",
    "    def rules3_1(self, input_1_mfs, input_2_mfs, input_3_mfs):\n",
    "        \"\"\"\n",
    "        Calculate and rules for a three input one output FIS for one data point\n",
    "\n",
    "        \"\"\"\n",
    "        and_rules = []\n",
    "        rule_number = 0\n",
    "        non_fire_rules = []\n",
    "        for mem_1 in input_1_mfs:\n",
    "            for mem_2 in input_2_mfs:\n",
    "                for mem_3 in input_3_mfs:\n",
    "                    and_rules.append(min(mem_1, mem_2, mem_3))\n",
    "                    if self.check_if_rule_fires([mem_1, mem_2, mem_3]):\n",
    "                        non_fire_rules.append(rule_number)\n",
    "                        \n",
    "                    rule_number += 1\n",
    "        return and_rules, non_fire_rules\n",
    "    \n",
    "    \n",
    "    def rules4_1(self, input_1_mfs, input_2_mfs, input_3_mfs, input_4_mfs):\n",
    "        \"\"\"\n",
    "        Calculate and rules for a four input one output FIS for one data point\n",
    "\n",
    "        data_point - index of the current data point being calculated for\n",
    "        \"\"\"\n",
    "        and_rules = []\n",
    "        rule_number = 0\n",
    "        non_fire_rules = []\n",
    "        for mem_1 in input_1_mfs:\n",
    "            for mem_2 in input_2_mfs:\n",
    "                for mem_3 in input_3_mfs:\n",
    "                    for mem_4 in input_4_mfs:\n",
    "                        and_rules.append(min(mem_1, mem_2, mem_3, mem_4))\n",
    "                        if self.check_if_rule_fires([mem_1, mem_2, mem_3, mem_4]):\n",
    "                            non_fire_rules.append(rule_number)\n",
    "                        rule_number += 1\n",
    "                        \n",
    "        return and_rules, non_fire_rules\n",
    "\n",
    "\n",
    "    def defuzzification(self, and_rules, map_to_output_func, alternate_output_functions=[]):\n",
    "        \"\"\"\n",
    "        defuzzification of the system to get final crisp output\n",
    "\n",
    "        and_rules - result of the and rules\n",
    "        map_to_output_func - GA determines which output function this rule maps to\n",
    "\n",
    "        \"\"\"\n",
    "        output_membership_funcs = self.output_membership_functions\n",
    "        if alternate_output_functions:\n",
    "            output_membership_funcs = alternate_output_functions\n",
    "        lam_numerator = 0\n",
    "        lam_denominator = 0\n",
    "        for and_rule, map_to_output_func in zip(and_rules, map_to_output_func):\n",
    "            # Defuzzification using the center of sums\n",
    "            if map_to_output_func > (len(output_membership_funcs)-1):\n",
    "                map_to_output_func = len(output_membership_funcs)-1\n",
    "            if and_rule != 0:\n",
    "                output_value = self.defuzz_center_of_sums(and_rule, output_membership_funcs[int(map_to_output_func)])\n",
    "                lam_numerator += output_value[0]\n",
    "                lam_denominator += output_value[1]\n",
    "\n",
    "        # Check to make sure denominator is not 0\n",
    "        if lam_denominator == 0:\n",
    "            lam = 0\n",
    "        else:\n",
    "            lam = lam_numerator / lam_denominator\n",
    "\n",
    "        # return the output of this fis\n",
    "        return lam"
   ]
  },
  {
   "cell_type": "code",
   "execution_count": 176,
   "id": "5fd217bd-62a7-4934-8afc-782896cafb09",
   "metadata": {
    "tags": []
   },
   "outputs": [],
   "source": [
    "def layers_of_fis(data_point, ga_vec):    \n",
    "    # Output of first layer\n",
    "    lam_propulsion_power = fis_class.defuzzification(and_rules_values_pd[\"propulsion_power\"][data_point], ga_vec[0:96])\n",
    "    lam_propulsion_age = fis_class.defuzzification(and_rules_values_pd[\"propulsion_age\"][data_point], ga_vec[96:132])\n",
    "    lam_carrying_capacity = fis_class.defuzzification(and_rules_values_pd[\"carrying_capacity\"][data_point], ga_vec[132:180])\n",
    "    lam_length = fis_class.defuzzification(and_rules_values_pd[\"length\"][data_point], ga_vec[180:189])\n",
    "\n",
    "\n",
    "    # SIZE FIS - intermediate\n",
    "    fixed_rules_3_1 =   [0.0, 0.0, 1.0,\n",
    "                         0.0, 1.0, 2.0,\n",
    "                         1.0, 2.0, 2.0,\n",
    "\n",
    "                         0.0, 1.0, 2.0,\n",
    "                         1.0, 2.0, 2.0,\n",
    "                         2.0, 2.0, 3.0,\n",
    "\n",
    "                         1.0, 2.0, 2.0,\n",
    "                         2.0, 2.0, 3.0,\n",
    "                         2.0, 3.0, 3.0]\n",
    "    \n",
    "    # SIZE FIS - intermediate######\n",
    "    carrying_capacity_mems = fis_class.input_to_membership_intermediate_level(lam_carrying_capacity, mfs_fixed_3_1)\n",
    "    length_mems = fis_class.input_to_membership_intermediate_level(lam_length, mfs_fixed_3_1)\n",
    "    size_and_rules, s_non_fire = fis_class.rules3_1(fis_class.membership_value_pd[\"GSS_Gross.tonnage\"][data_point],\n",
    "                                                    carrying_capacity_mems,\n",
    "                                                    length_mems)\n",
    "    # output of intermediate FIS size\n",
    "    lam_size = fis_class.defuzzification(size_and_rules, fixed_rules_3_1, alternate_output_functions=mfs_fixed_3_1)\n",
    "\n",
    "    # PROPUSION FIS - intermediate\n",
    "    fixed_rules_2_1 = [0, 0, 1,\n",
    "                       0, 1, 2,\n",
    "                       1, 2, 2]\n",
    "    propulsion_power_mems = fis_class.input_to_membership_intermediate_level(lam_propulsion_power, mfs_fixed)\n",
    "    propulsion_age_mems = fis_class.input_to_membership_intermediate_level(lam_propulsion_age, mfs_fixed)\n",
    "    propulsion_and_rules, p_non_fire = fis_class.rules2_1(propulsion_power_mems, propulsion_age_mems)\n",
    "    # output of intermediate FIS propulsion\n",
    "    lam_propulsion = fis_class.defuzzification(propulsion_and_rules, fixed_rules_2_1)\n",
    "\n",
    "\n",
    "    # Membership calulations for final FIS\n",
    "    size_mems = fis_class.input_to_membership_intermediate_level(lam_size, mfs_fixed)\n",
    "    propulsion_mems = fis_class.input_to_membership_intermediate_level(lam_propulsion, mfs_fixed)\n",
    "    final_and_rules, final_non_fire = fis_class.rules4_1(fis_class.membership_value_pd[\"GSS_Type_numeric\"][data_point],\n",
    "                                                         fis_class.membership_value_pd[\"age_in_months\"][data_point],\n",
    "                                                         size_mems, propulsion_mems)\n",
    "    lam_final = fis_class.defuzzification(final_and_rules, ga_vec[189:432])\n",
    "    return lam_final\n"
   ]
  },
  {
   "cell_type": "code",
   "execution_count": 177,
   "id": "0cf9f25c-453f-4ac0-9881-387bf7f18755",
   "metadata": {
    "tags": []
   },
   "outputs": [],
   "source": [
    "def classify_points(test_data, test_data_y, chromosome, fit_function_fis):\n",
    "    \"\"\"\n",
    "    Returns\n",
    "    -------\n",
    "    total error and the\n",
    "    the confusion matrix for the points\n",
    "\n",
    "    \"\"\"\n",
    "    def round_to_output(value):\n",
    "        check_1 = abs(1-value)\n",
    "        check_0 = abs(0-value)\n",
    "        if check_1 < check_0:\n",
    "            rounded_value = 1\n",
    "        else:\n",
    "            rounded_value = 0\n",
    "        return rounded_value\n",
    "    \n",
    "    predicted_values = []\n",
    "    # Initialize confusion matrix\n",
    "    confusion_matrix = np.zeros((2, 2))\n",
    "    error = 0\n",
    "    for ordered_data_row, actual_label in zip(np.arange(0, len(test_data_y)), test_data_y):\n",
    "        predicted_value = fit_function_fis(ordered_data_row, np.floor(chromosome))\n",
    "        predicted_values.append(predicted_value)\n",
    "\n",
    "        # Fill in the confusion matrix\n",
    "        classified_label = round_to_output(predicted_value)\n",
    "        confusion_matrix[int(actual_label)][int(classified_label)] += 1\n",
    "        # Get the error for each point\n",
    "        error += abs(actual_label - predicted_value)\n",
    "\n",
    "    return error, confusion_matrix, predicted_values"
   ]
  },
  {
   "cell_type": "code",
   "execution_count": 178,
   "id": "1277e837-f0a4-480a-9a01-df6d8d5834af",
   "metadata": {},
   "outputs": [],
   "source": [
    "def calcs(c_matrix):\n",
    "    Tp = c_matrix[1][1]\n",
    "    Tn = c_matrix[0][0]\n",
    "    Fp = c_matrix[1][0]\n",
    "    Fn = c_matrix[0][1]\n",
    "    accuracy = (Tp + Tn)/(Tp + Tn + Fp + Fn)\n",
    "    sensitivity = Tp/(Tp + Fn)\n",
    "    specificity = Tn/(Tn + Fp)\n",
    "    return round(accuracy*100, 2), round(sensitivity*100, 2), round(specificity*100, 2)"
   ]
  },
  {
   "cell_type": "code",
   "execution_count": 179,
   "id": "4502c037-8d55-4f1b-ae5d-d9316caec08d",
   "metadata": {},
   "outputs": [],
   "source": [
    "# Mfs for output and fixed intermediate layers\n",
    "mfs_fixed = [[0, 0, .4], [.2, .5, .8], [.6, 1, 1]]\n",
    "mfs_fixed_3_1 = [[0, 0, .3], [.2, .35, .55], [.45, .65, .8], [.7, 1, 1]]"
   ]
  },
  {
   "cell_type": "code",
   "execution_count": 180,
   "id": "7026023b-16ff-4786-b961-4037d28e824d",
   "metadata": {
    "tags": []
   },
   "outputs": [],
   "source": [
    "# Define the Input Membership Functions\n",
    "# GSS_Type_numeric\n",
    "mfs_predictor0 = [[-.1, 0, .1], [0.9, 1, 1.1], [1.9, 2, 2.1], [2.9, 3, 3.1], [3.9, 4, 4.1], [4.9, 5, 5.1], [5.9, 6, 6.1], [6.9, 7, 7.1], [7.9, 8, 8.1]]\n",
    "membership_function_labels0 = ['type 0', 'type 1', 'type 2', 'type 3', 'type 4', 'type 5', 'type 6', 'type 7', 'type 8']\n",
    "\n",
    "# \"GSS_Propulsion_numeric\"\n",
    "mfs_predictor1 = [[-.1, 0, .1], [0.9, 1, 1.1], [1.9, 2, 2.1], [2.9, 3, 3.1]]\n",
    "membership_function_labels1 = ['type 0', 'type 1', 'type 2', 'type 3']\n",
    "\n",
    "# \"GSS_Main.engines..Model_numeric\"\n",
    "mfs_predictor2 = [[0, 150, 250], [170, 233, 400], [300, 400, 670]]\n",
    "membership_function_labels2 = ['young parts', 'middle age parts', 'old parts']\n",
    "\n",
    "# \"GSS_Main.engines..Designer_numeric\",\n",
    "mfs_predictor3 = [[130, 350, 375], [365, 420, 455], [445, 465, 505], [500, 545, 655]]\n",
    "membership_function_labels3 = ['young parts', 'middle young parts', 'middle old parts', 'old parts']\n",
    "\n",
    "# \"GSS_Main.engines..Builder.code_numeric\"\n",
    "mfs_predictor4 = [[80, 220, 300], [280, 335, 400], [390, 440, 655]]\n",
    "membership_function_labels4 = ['young parts', 'middle age parts', 'old parts']\n",
    "    \n",
    "# \"GSS_Gross.tonnage\"\n",
    "mfs_predictor5 = [[0, 0, 50000], [45000, 60000, 125000], [120000, 140000, 175000]]\n",
    "membership_function_labels5 = ['small', 'medium', 'large']\n",
    "\n",
    "# \"GSS_Deadweight\"\n",
    "mfs_predictor6 = [[0, 0, 50000], [45000, 60000, 125000], [120000, 170000, 330000]]\n",
    "membership_function_labels6 = ['small', 'medium', 'large']\n",
    "    \n",
    "# \"GSS_TEU\"\n",
    "mfs_predictor7 = [[-1.1, -1, -.9], [0, 0, 2500], [2200, 4000, 7600], [7400, 13000, 18000]]\n",
    "membership_function_labels7 = ['no data', 'small', 'medium', 'large']\n",
    "    \n",
    "# \"GSS_Insulated.capacity\"\n",
    "mfs_predictor8 = [[-1.1, -1, -.9], [0, 0, 1000], [800, 5000, 10000], [9000, 15000, 22000]]\n",
    "membership_function_labels8 = ['no data', 'small', 'medium', 'large']\n",
    "    \n",
    "# \"GSS_Length.overall\"\n",
    "mfs_predictor9 = [[40, 80, 150], [140, 180, 230], [220, 280, 400]]\n",
    "membership_function_labels9 = ['small', 'medium', 'large']\n",
    "\n",
    "# \"GSS_Length.between.perpendiculars\"\n",
    "mfs_predictor10 = [[40, 75, 150], [130, 165, 230], [220, 280, 380]]\n",
    "membership_function_labels10 = ['small', 'medium', 'large']\n",
    "    \n",
    "# \"GSS_Service.speed\"\n",
    "mfs_predictor11 = [[-1.1, -1, -.9], [0, 10, 12], [11, 13.5, 20], [18, 24, 28]]\n",
    "membership_function_labels11 = ['no data', 'small', 'medium', 'large']\n",
    "\n",
    "# \"GSS_Main.engines..Number.of.main.engines\"\n",
    "mfs_predictor12 = [[0, 1, 1.8], [1.5, 3, 6]]\n",
    "membership_function_labels12 = ['small', 'large']\n",
    "\n",
    "# \"GSS_Main.engines..Max..power\"\n",
    "mfs_predictor13 = [[0, 0, 20000], [18000, 40000, 60000], [50000, 68000, 81000]]\n",
    "membership_function_labels13 = ['small', 'medium', 'large']\n",
    "\n",
    "# \"age_in_months\"\n",
    "mfs_predictor14 = [[40, 130, 200], [180, 210, 380], [360, 400, 670]]\n",
    "membership_function_labels14 = ['young', 'middle age', 'old']\n",
    "\n",
    "all_membership_functions = [mfs_predictor0, mfs_predictor1, mfs_predictor2, mfs_predictor3, mfs_predictor4,\n",
    "                            mfs_predictor5, mfs_predictor6, mfs_predictor7, mfs_predictor8, mfs_predictor9,\n",
    "                            mfs_predictor10, mfs_predictor11, mfs_predictor12, mfs_predictor13, mfs_predictor14]\n",
    "\n",
    "all_membership_function_labels = [membership_function_labels0, membership_function_labels1, membership_function_labels2, membership_function_labels3, membership_function_labels4,\n",
    "                                  membership_function_labels5, membership_function_labels6, membership_function_labels7, membership_function_labels8, membership_function_labels9,\n",
    "                                  membership_function_labels10, membership_function_labels11, membership_function_labels12, membership_function_labels13, membership_function_labels14]"
   ]
  },
  {
   "cell_type": "code",
   "execution_count": 181,
   "id": "b557e5e4-422d-4139-9246-66556cf5b3c9",
   "metadata": {},
   "outputs": [],
   "source": [
    "# Predictors after coversions\n",
    "predictors_final = [\"GSS_Type_numeric\",\n",
    "                  \"GSS_Propulsion_numeric\",\n",
    "                  \"GSS_Main.engines..Model\",\n",
    "                  \"GSS_Main.engines..Designer\",\n",
    "                  \"GSS_Main.engines..Builder.code\",\n",
    "                  \"GSS_Gross.tonnage\",\n",
    "                  \"GSS_Deadweight\",\n",
    "                  \"GSS_TEU\",\n",
    "                  \"GSS_Insulated.capacity\",\n",
    "                  \"GSS_Length.overall\",\n",
    "                  \"GSS_Length.between.perpendiculars\",\n",
    "                  \"GSS_Service.speed\",\n",
    "                  \"GSS_Main.engines..Number.of.main.engines\",\n",
    "                  \"GSS_Main.engines..Max..power\",\n",
    "                  \"age_in_months\"]"
   ]
  },
  {
   "cell_type": "code",
   "execution_count": 182,
   "id": "95a9086a-40ff-4f46-ab97-4e482b8731a3",
   "metadata": {
    "tags": []
   },
   "outputs": [],
   "source": [
    "# open a file, where you stored the pickled data\n",
    "file = open('data_folds_7_11', 'rb')\n",
    "\n",
    "# dump information to that file\n",
    "df = pickle.load(file)\n",
    "\n",
    "# close the file\n",
    "file.close()"
   ]
  },
  {
   "cell_type": "code",
   "execution_count": 183,
   "id": "b8aa1e42-b638-40cb-b05c-8ca5e12f3974",
   "metadata": {},
   "outputs": [],
   "source": [
    "current_fold = 0\n",
    "train_idxes = df['folds'][current_fold][0]\n",
    "test_idxes = df['folds'][current_fold][1]\n",
    "\n",
    "train_dataset_X = df['X'].loc[list(train_idxes), :]\n",
    "train_dataset_Y = df['Y'].loc[list(train_idxes)]\n",
    "\n",
    "test_dataset_X = df['X'].loc[list(test_idxes), :]\n",
    "test_dataset_Y = df['Y'].loc[list(test_idxes)]"
   ]
  },
  {
   "cell_type": "code",
   "execution_count": 184,
   "id": "577f6abb-98ac-4424-9759-28695a6aeaee",
   "metadata": {},
   "outputs": [
    {
     "name": "stdout",
     "output_type": "stream",
     "text": [
      "Membership values calculated for input: GSS_Type_numeric\n",
      "Membership values calculated for input: GSS_Propulsion_numeric\n",
      "Membership values calculated for input: GSS_Main.engines..Model\n",
      "Membership values calculated for input: GSS_Main.engines..Designer\n",
      "Membership values calculated for input: GSS_Main.engines..Builder.code\n",
      "Membership values calculated for input: GSS_Gross.tonnage\n",
      "Membership values calculated for input: GSS_Deadweight\n",
      "Membership values calculated for input: GSS_TEU\n",
      "Membership values calculated for input: GSS_Insulated.capacity\n",
      "Membership values calculated for input: GSS_Length.overall\n",
      "Membership values calculated for input: GSS_Length.between.perpendiculars\n",
      "Membership values calculated for input: GSS_Service.speed\n",
      "Membership values calculated for input: GSS_Main.engines..Number.of.main.engines\n",
      "Membership values calculated for input: GSS_Main.engines..Max..power\n",
      "Membership values calculated for input: age_in_months\n"
     ]
    }
   ],
   "source": [
    "fis_class = DynamicFuzzySystem(mfs_fixed, predictors_final)\n",
    "# Calcualte the membership values for the inputs - these will stay fixed because the membership functions stay fixed\n",
    "for predictor_input, mfs_predictor, membership_function_labels in zip(predictors_final, all_membership_functions, all_membership_function_labels):\n",
    "    fis_class.input_to_membership(predictor_input, train_dataset_X[predictor_input], mfs_predictor, membership_function_labels)"
   ]
  },
  {
   "cell_type": "code",
   "execution_count": 185,
   "id": "40c05f74-c013-480e-8ad4-1a2325c8506a",
   "metadata": {},
   "outputs": [],
   "source": [
    "### STRUCTURE CHANGE FROM JULY 12 \n",
    "# Rule and aggregation calculations for fixed inputs - these will stay fixed so calculation occurs once here\n",
    "and_rules_values_pd = pd.DataFrame(columns=[\"propulsion_power\", \"propulsion_age\", \"carrying_capacity\", \"length\"])\n",
    "non_fire_rules_values_pd = pd.DataFrame(columns=[\"propulsion_power\", \"propulsion_age\", \"carrying_capacity\", \"length\"])\n",
    "\n",
    "# the indexes in the membership_value_pd are corresponding to the length of the trianing dataset\n",
    "# the indexes when accesing from the actual dataset are corresponding to which values were chosen in the \n",
    "for data_point in np.arange(0, len(train_dataset_X)):\n",
    "    propulsion_power_and_rules, pp_non_fire = fis_class.rules4_1(fis_class.membership_value_pd[\"GSS_Propulsion_numeric\"][data_point],\n",
    "                                                                 fis_class.membership_value_pd[\"GSS_Main.engines..Number.of.main.engines\"][data_point],\n",
    "                                                                 fis_class.membership_value_pd[\"GSS_Main.engines..Max..power\"][data_point],\n",
    "                                                                 fis_class.membership_value_pd[\"GSS_Service.speed\"][data_point])\n",
    "\n",
    "    propulsion_age_and_rules, pa_non_fire = fis_class.rules3_1(fis_class.membership_value_pd[\"GSS_Main.engines..Model\"][data_point],\n",
    "                                                               fis_class.membership_value_pd[\"GSS_Main.engines..Designer\"][data_point],\n",
    "                                                               fis_class.membership_value_pd[\"GSS_Main.engines..Builder.code\"][data_point])\n",
    "\n",
    "    carrying_capacity_and_rules, cc_non_fire = fis_class.rules3_1(fis_class.membership_value_pd[\"GSS_Deadweight\"][data_point],\n",
    "                                                                  fis_class.membership_value_pd[\"GSS_TEU\"][data_point],\n",
    "                                                                  fis_class.membership_value_pd[\"GSS_Insulated.capacity\"][data_point])\n",
    "\n",
    "    length_and_rules, l_non_fire = fis_class.rules2_1(fis_class.membership_value_pd[\"GSS_Length.overall\"][data_point],\n",
    "                                                      fis_class.membership_value_pd[\"GSS_Length.between.perpendiculars\"][data_point])\n",
    "    \n",
    "    and_rules_values_pd.loc[data_point] = [propulsion_power_and_rules, propulsion_age_and_rules, carrying_capacity_and_rules, length_and_rules]\n",
    "    non_fire_rules_values_pd.loc[data_point] = [pp_non_fire, pa_non_fire, cc_non_fire, l_non_fire]\n"
   ]
  },
  {
   "cell_type": "code",
   "execution_count": 102,
   "id": "2b5c11fd-f4a5-4238-90a9-ef69e7f0abc7",
   "metadata": {},
   "outputs": [
    {
     "data": {
      "text/plain": [
       "[16, 19, 20, 23, 40, 43, 44, 47, 88, 91, 92, 95]"
      ]
     },
     "execution_count": 102,
     "metadata": {},
     "output_type": "execute_result"
    }
   ],
   "source": [
    "pp_non_fire"
   ]
  },
  {
   "cell_type": "code",
   "execution_count": 103,
   "id": "d3955180-d64f-4be9-a35c-80386f500a41",
   "metadata": {},
   "outputs": [
    {
     "data": {
      "text/plain": [
       "[24, 26, 30, 32, 33, 35]"
      ]
     },
     "execution_count": 103,
     "metadata": {},
     "output_type": "execute_result"
    }
   ],
   "source": [
    "pa_non_fire"
   ]
  },
  {
   "cell_type": "code",
   "execution_count": 104,
   "id": "53d85ece-49b7-460a-81c2-5508c772a86b",
   "metadata": {},
   "outputs": [
    {
     "data": {
      "text/plain": [
       "[4, 5, 7, 8]"
      ]
     },
     "execution_count": 104,
     "metadata": {},
     "output_type": "execute_result"
    }
   ],
   "source": [
    "w_non_fire"
   ]
  },
  {
   "cell_type": "code",
   "execution_count": 105,
   "id": "8f7aee4e-7dec-45fc-815b-9fdb4aaa0b05",
   "metadata": {},
   "outputs": [
    {
     "data": {
      "text/plain": [
       "[1, 2, 3, 9, 10, 11, 13, 14, 15]"
      ]
     },
     "execution_count": 105,
     "metadata": {},
     "output_type": "execute_result"
    }
   ],
   "source": [
    "cc_non_fire"
   ]
  },
  {
   "cell_type": "code",
   "execution_count": 106,
   "id": "86a3837b-75c0-4db1-8bd0-484b8e0dcc35",
   "metadata": {},
   "outputs": [
    {
     "data": {
      "text/plain": [
       "[4, 5, 7, 8]"
      ]
     },
     "execution_count": 106,
     "metadata": {},
     "output_type": "execute_result"
    }
   ],
   "source": [
    "l_non_fire"
   ]
  },
  {
   "cell_type": "code",
   "execution_count": 254,
   "id": "dc347558-6a48-45b7-833e-aafe004887a5",
   "metadata": {},
   "outputs": [],
   "source": [
    "model_name = 'models/run_100gen40pop_05theta_my_calc'"
   ]
  },
  {
   "cell_type": "code",
   "execution_count": 255,
   "id": "76087e0e-4045-46f9-a935-3710ffc5d6d3",
   "metadata": {},
   "outputs": [],
   "source": [
    "# load a stored model\n",
    "model = load(model_name + '.joblib')\n",
    "error_over_time = model['Error over time'][0]\n",
    "best_chromosome = model['Best Chromosome'][0]\n",
    "# time_to_train = model['Time'][0]\n"
   ]
  },
  {
   "cell_type": "code",
   "execution_count": 257,
   "id": "b35e6d2d-94bd-48c0-af1e-0e31914af669",
   "metadata": {},
   "outputs": [
    {
     "data": {
      "text/plain": [
       "array([[282.,  63.],\n",
       "       [ 29.,   9.]])"
      ]
     },
     "execution_count": 257,
     "metadata": {},
     "output_type": "execute_result"
    }
   ],
   "source": [
    "error_test, confusion_matrix_test, predicted_values_test = classify_points(test_dataset_X, test_dataset_Y, best_chromosome, layers_of_fis)\n",
    "confusion_matrix_test"
   ]
  },
  {
   "cell_type": "code",
   "execution_count": 258,
   "id": "6ed3ac2a-3f3a-415d-a1ba-ef30026a0698",
   "metadata": {},
   "outputs": [
    {
     "data": {
      "text/plain": [
       "array([[1295.,   85.],\n",
       "       [  96.,   54.]])"
      ]
     },
     "execution_count": 258,
     "metadata": {},
     "output_type": "execute_result"
    }
   ],
   "source": [
    "error_train, confusion_matrix_train, predicted_values_train = classify_points(train_dataset_X, train_dataset_Y, best_chromosome, layers_of_fis)\n",
    "confusion_matrix_train"
   ]
  },
  {
   "cell_type": "code",
   "execution_count": 266,
   "id": "d1a69333-3d62-4f68-b894-3e418bcd7b2c",
   "metadata": {},
   "outputs": [
    {
     "name": "stdout",
     "output_type": "stream",
     "text": [
      "accuracy:  88.17\n",
      "sensitivity:  38.85\n",
      "specificity:  93.1\n"
     ]
    }
   ],
   "source": [
    "accuracy, sensitivity, specificity = calcs(confusion_matrix_train)\n",
    "print('accuracy: ', accuracy)\n",
    "print('sensitivity: ', sensitivity)\n",
    "print('specificity: ', specificity)"
   ]
  },
  {
   "cell_type": "code",
   "execution_count": 263,
   "id": "f06c8bc0-203b-4b6e-ae8b-b53b3e7ed953",
   "metadata": {},
   "outputs": [
    {
     "data": {
      "image/png": "[encoded data removed]",
      "text/plain": [
       "<Figure size 432x288 with 1 Axes>"
      ]
     },
     "metadata": {
      "needs_background": "light"
     },
     "output_type": "display_data"
    }
   ],
   "source": [
    "generations_array = np.arange(0, len(error_over_time), 1)\n",
    "error_over_time_per_point = 1/error_over_time\n",
    "plt.plot(generations_array, error_over_time_per_point)\n",
    "plt.title('Fitness over time')\n",
    "plt.xlabel('Generations')\n",
    "plt.ylabel('Fitness', multialignment='center')\n",
    "plt.show()"
   ]
  },
  {
   "cell_type": "code",
   "execution_count": 264,
   "id": "ad144b32-5321-4408-9d70-b13e013f6976",
   "metadata": {},
   "outputs": [
    {
     "data": {
      "text/plain": [
       "0.8099541062801933"
      ]
     },
     "execution_count": 264,
     "metadata": {},
     "output_type": "execute_result"
    }
   ],
   "source": [
    "# create and plot precision-recall curve of the combined model\n",
    "precision, recall, t = precision_recall_curve(y_true=train_dataset_Y,\n",
    "                       probas_pred=predicted_values_train)\n",
    "auc_score = roc_auc_score(train_dataset_Y, predicted_values_train)\n",
    "auc_score"
   ]
  },
  {
   "cell_type": "code",
   "execution_count": 265,
   "id": "b00e835b-f518-4f00-910d-51dd89d9d50e",
   "metadata": {},
   "outputs": [
    {
     "data": {
      "text/plain": [
       "Text(0.5, 1.0, 'Precision-Recall curve (combined model)')"
      ]
     },
     "execution_count": 265,
     "metadata": {},
     "output_type": "execute_result"
    },
    {
     "data": {
      "image/png": "[encoded data removed]",
      "text/plain": [
       "<Figure size 720x360 with 1 Axes>"
      ]
     },
     "metadata": {
      "needs_background": "light"
     },
     "output_type": "display_data"
    }
   ],
   "source": [
    "fig, ax = plt.subplots()\n",
    "fig.set_size_inches((10, 5))\n",
    "ax.plot(recall, precision)\n",
    "ax.set_xlabel(\"Recall\")\n",
    "ax.set_ylabel(\"Precision\")\n",
    "\n",
    "ax.set_title(\"Precision-Recall curve (combined model)\")"
   ]
  },
  {
   "cell_type": "code",
   "execution_count": 64,
   "id": "853de53a-c762-40c2-92d0-fd033e58364d",
   "metadata": {},
   "outputs": [],
   "source": [
    "# model_deap = load('models/run5_5gen_20pop_deap.joblib')\n",
    "# best_chromosome_deap = model_deap['Best Chromosome'][0]\n",
    "# error_test_deap, confusion_matrix_test_deap = classify_points(test_dataset_X, test_dataset_Y, best_chromosome, layers_of_fis)"
   ]
  }
 ],
 "metadata": {
  "kernelspec": {
   "display_name": "gfs_env",
   "language": "python",
   "name": "gfs_env"
  },
  "language_info": {
   "codemirror_mode": {
    "name": "ipython",
    "version": 3
   },
   "file_extension": ".py",
   "mimetype": "text/x-python",
   "name": "python",
   "nbconvert_exporter": "python",
   "pygments_lexer": "ipython3",
   "version": "3.10.5"
  }
 },
 "nbformat": 4,
 "nbformat_minor": 5
}
